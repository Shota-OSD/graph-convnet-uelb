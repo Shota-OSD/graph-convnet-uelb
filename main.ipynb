{
 "cells": [
  {
   "cell_type": "code",
   "execution_count": 5,
   "metadata": {},
   "outputs": [],
   "source": [
    "notebook_mode = True\n",
    "viz_mode = False"
   ]
  },
  {
   "cell_type": "code",
   "execution_count": 6,
   "metadata": {},
   "outputs": [
    {
     "name": "stdout",
     "output_type": "stream",
     "text": [
      "CUDA is not available. GPU cannot be used.\n"
     ]
    }
   ],
   "source": [
    "import torch\n",
    "\n",
    "# Check if GPU is available\n",
    "if torch.cuda.is_available():\n",
    "    print(\"CUDA is available. GPU can be used.\")\n",
    "    print(\"Number of GPUs available:\", torch.cuda.device_count())\n",
    "    print(\"Current GPU device:\", torch.cuda.current_device())\n",
    "    print(\"GPU name:\", torch.cuda.get_device_name(torch.cuda.current_device()))\n",
    "else:\n",
    "    print(\"CUDA is not available. GPU cannot be used.\")\n"
   ]
  },
  {
   "cell_type": "markdown",
   "metadata": {},
   "source": [
    "# Import packages"
   ]
  },
  {
   "cell_type": "code",
   "execution_count": 44,
   "metadata": {},
   "outputs": [],
   "source": [
    "import os\n",
    "import json\n",
    "import argparse\n",
    "import time\n",
    "import random\n",
    "\n",
    "import numpy as np\n",
    "import csv\n",
    "\n",
    "import torch\n",
    "import torch.nn.functional as F\n",
    "import torch.nn as nn\n",
    "from torch.utils.tensorboard import SummaryWriter  # tensorboardXの代替\n",
    "\n",
    "import matplotlib\n",
    "import matplotlib.pyplot as plt\n",
    "\n",
    "import networkx as nx\n",
    "from sklearn.utils.class_weight import compute_class_weight\n",
    "\n",
    "from fastprogress import master_bar, progress_bar\n",
    "\n",
    "# Remove warning\n",
    "import warnings\n",
    "#warnings.filterwarnings(\"ignore\", category=UserWarning)\n",
    "warnings.simplefilter(\"ignore\")\n",
    "from scipy.sparse import SparseEfficiencyWarning\n",
    "warnings.simplefilter('ignore', SparseEfficiencyWarning)\n",
    "\n",
    "from config import *\n",
    "from utils.graph_utils import *\n",
    "from utils.exact_solution import SolveExactSolution\n",
    "from utils.flow import Flow\n",
    "from utils.data_maker import DataMaker\n",
    "from utils.dataset_reader import DatasetReader\n",
    "from utils.plot_utils import *\n",
    "from models.gcn_model import ResidualGatedGCNModel\n",
    "from utils.model_utils import *"
   ]
  },
  {
   "cell_type": "markdown",
   "metadata": {},
   "source": [
    "# Setting for notebook"
   ]
  },
  {
   "cell_type": "code",
   "execution_count": 10,
   "metadata": {},
   "outputs": [],
   "source": [
    "if notebook_mode == True:\n",
    "    %load_ext autoreload\n",
    "    %autoreload 2\n",
    "    %matplotlib inline\n",
    "    from IPython.display import set_matplotlib_formats\n",
    "    set_matplotlib_formats('png')"
   ]
  },
  {
   "cell_type": "markdown",
   "metadata": {},
   "source": [
    "# Load configurations"
   ]
  },
  {
   "cell_type": "code",
   "execution_count": 11,
   "metadata": {},
   "outputs": [
    {
     "name": "stdout",
     "output_type": "stream",
     "text": [
      "Loaded configs/default.json:\n",
      "{'expt_name': 'deafult', 'gpu_id': '0', 'graph_filepath': './data/graph.gml', 'edge_numbering_filepath': './data/edge_numbering_file.csv', 'train_filepath': './data/gragh.gml', 'val_filepath': './data/tsp10_val_concorde.txt', 'test_filepath': './data/tsp10_test_concorde.txt', 'solver_type': 'pulp', 'graph_model': 'nsfnet', 'num_data': 50, 'num_nodes': 14, 'num_neighbors': 5, 'num_commodities': 10, 'sample_size': 5, 'capacity_lower': 500, 'capacity_higher': 1000, 'demand_lower': 1, 'demand_higher': 500, 'node_dim': 10, 'voc_nodes_in': 2, 'voc_nodes_out': 2, 'voc_edges_in': 3, 'voc_edges_out': 2, 'beam_size': 10, 'hidden_dim': 50, 'num_layers': 3, 'mlp_layers': 2, 'aggregation': 'mean', 'max_epochs': 10, 'val_every': 5, 'test_every': 10, 'batch_size': 20, 'batches_per_epoch': 500, 'accumulation_steps': 1, 'learning_rate': 0.001, 'decay_rate': 1.01}\n"
     ]
    }
   ],
   "source": [
    "config_path = \"configs/default.json\"\n",
    "\n",
    "config = get_config(config_path)\n",
    "print(\"Loaded {}:\\n{}\".format(config_path, config))"
   ]
  },
  {
   "cell_type": "markdown",
   "metadata": {},
   "source": [
    "# Configure GPU options"
   ]
  },
  {
   "cell_type": "code",
   "execution_count": 12,
   "metadata": {},
   "outputs": [
    {
     "name": "stdout",
     "output_type": "stream",
     "text": [
      "CUDA not available\n"
     ]
    }
   ],
   "source": [
    "os.environ[\"CUDA_DEVICE_ORDER\"] = \"PCI_BUS_ID\"\n",
    "os.environ[\"CUDA_VISIBLE_DEVICES\"] = str(config.gpu_id) \n",
    "\n",
    "if torch.cuda.is_available():\n",
    "    print(\"CUDA available, using GPU ID {}\".format(config.gpu_id))\n",
    "    dtypeFloat = torch.cuda.FloatTensor\n",
    "    dtypeLong = torch.cuda.LongTensor\n",
    "    torch.cuda.manual_seed(1)\n",
    "else:\n",
    "    print(\"CUDA not available\")\n",
    "    dtypeFloat = torch.float\n",
    "    dtypeLong = torch.long\n",
    "    torch.manual_seed(1)"
   ]
  },
  {
   "cell_type": "markdown",
   "metadata": {},
   "source": [
    "# Make graph dataset\n",
    "gragh.gmlとedge_numbering_file.csvの作成"
   ]
  },
  {
   "cell_type": "code",
   "execution_count": 13,
   "metadata": {},
   "outputs": [
    {
     "name": "stdout",
     "output_type": "stream",
     "text": [
      "0  data was created.\n",
      "10  data was created.\n",
      "20  data was created.\n",
      "30  data was created.\n",
      "40  data was created.\n"
     ]
    }
   ],
   "source": [
    "num_data = config.num_data\n",
    "solver_type = config.solver_type\n",
    "Maker = DataMaker(config)\n",
    "exact_file_name =\"./data/exact_solution.csv\"\n",
    "infinit_loop_count = 0\n",
    "incorrect_value_count = 0\n",
    "\n",
    "for data in range(num_data):\n",
    "    if data % 10 == 0:\n",
    "        print(data, \" data was created.\")\n",
    "    # ディレクトリ番号の定義\n",
    "    file_number = data - (data % 10)\n",
    "    \n",
    "    # ディレクトリの作成\n",
    "    graph_file_directory = \"./data/graph_file/{}\".format(file_number)\n",
    "    if not os.path.exists(graph_file_directory):\n",
    "        os.makedirs(graph_file_directory)\n",
    "    commodity_file_directory = \"./data/commodity_file/{}\".format(file_number)\n",
    "    if not os.path.exists(commodity_file_directory):\n",
    "        os.makedirs(commodity_file_directory)\n",
    "    edge_file_directory = \"./data/edge_file/{}\".format(file_number)\n",
    "    if not os.path.exists(edge_file_directory):\n",
    "        os.makedirs(edge_file_directory)\n",
    "    node_flow_file_directory = \"./data/node_flow_file/{}\".format(file_number)\n",
    "    if not os.path.exists(node_flow_file_directory):\n",
    "        os.makedirs(node_flow_file_directory)\n",
    "    edge_flow_file_directory = \"./data/edge_flow_file/{}\".format(file_number)\n",
    "    if not os.path.exists(edge_flow_file_directory):\n",
    "        os.makedirs(edge_flow_file_directory)\n",
    "\n",
    "    # ファイル名の定義\n",
    "    graph_file_name = \"./data/graph_file/{file_number}/graph_{data}.gml\".format(file_number=file_number, data=data)\n",
    "    comodity_file_name = \"./data/commodity_file/{file_number}/commodity_data_{data}.csv\".format(file_number=file_number, data=data)\n",
    "    edge_file_name = \"./data/edge_file/{file_number}/edge_numbering_{data}.csv\".format(file_number=file_number, data=data)\n",
    "    node_flow_file_name = \"./data/node_flow_file/{file_number}/node_flow_{data}.csv\".format(file_number=file_number, data=data)\n",
    "    edge_flow_file_name = \"./data/edge_flow_file/{file_number}/edge_flow_{data}.csv\".format(file_number=file_number, data=data)\n",
    "\n",
    "    # 作成したdataが適切で無い場合のやり直し\n",
    "    while True:\n",
    "    # グラフ作成\n",
    "        G = Maker.create_graph()\n",
    "        \n",
    "        # 品種作成\n",
    "        commodity_list = Maker.generate_commodity()\n",
    "        \n",
    "        # グラフの保存\n",
    "        nx.write_gml(G, graph_file_name)\n",
    "\n",
    "        # 品種の保存\n",
    "        with open((comodity_file_name), 'w') as f:\n",
    "            writer = csv.writer(f, lineterminator='\\n')\n",
    "            writer.writerows(commodity_list)\n",
    "\n",
    "        # 厳密解の計算\n",
    "        E = SolveExactSolution(solver_type, comodity_file_name, graph_file_name)\n",
    "        flow_var_kakai, edge_list, objective_value, elapsed_time = E.solve_exact_solution_to_env()\n",
    "        node_flow_matrix, edge_flow_matrix, infinit_loop = E.generate_flow_matrices(flow_var_kakai)\n",
    "        \n",
    "        # 厳密解が1以上、または厳密解のフローが正しく導けなかった場合のやり直し\n",
    "        if infinit_loop:\n",
    "            infinit_loop_count += 1\n",
    "        elif objective_value >= 1.0:\n",
    "            incorrect_value_count += 1\n",
    "        else:\n",
    "            break\n",
    "    \n",
    "    # エッジの保存\n",
    "    with open(edge_file_name, mode='w', newline='') as file:\n",
    "        writer = csv.writer(file)\n",
    "        for item in edge_list:\n",
    "            writer.writerow([item[0], item[1][0], item[1][1]])\n",
    "    \n",
    "    # 厳密解の保存\n",
    "    with open(exact_file_name, 'a', newline='') as f:\n",
    "        out = csv.writer(f)\n",
    "        out.writerow([objective_value,elapsed_time]) \n",
    "\n",
    "    # 厳密解のノードのフローの保存\n",
    "    with open(node_flow_file_name, mode=\"w\", newline=\"\") as file:\n",
    "        writer = csv.writer(file)\n",
    "        for row in node_flow_matrix:\n",
    "            writer.writerow(row)\n",
    "    # 厳密解のエッジのフローの保存\n",
    "    with open(edge_flow_file_name, mode=\"w\", newline=\"\") as file:\n",
    "        writer = csv.writer(file)\n",
    "        for row in edge_flow_matrix:\n",
    "            writer.writerow(row)\n"
   ]
  },
  {
   "cell_type": "markdown",
   "metadata": {},
   "source": [
    "# Test data loading"
   ]
  },
  {
   "cell_type": "code",
   "execution_count": 47,
   "metadata": {},
   "outputs": [
    {
     "name": "stdout",
     "output_type": "stream",
     "text": [
      "Number of batches of size 20: 2\n",
      "Batch generation took: 0.150 sec\n",
      "edges: (20, 14, 14)\n",
      "edges_capacity: (20, 14, 14)\n",
      "edges_targets: (20, 14, 14, 10)\n",
      "nodes: (20, 14, 10)\n",
      "nodes_target: (20, 10, 14)\n",
      "load_factor: (20,)\n"
     ]
    },
    {
     "data": {
      "image/png": "[encoded data removed]",
      "text/plain": [
       "<Figure size 500x500 with 1 Axes>"
      ]
     },
     "metadata": {},
     "output_type": "display_data"
    }
   ],
   "source": [
    "if notebook_mode:\n",
    "    num_data = config.num_data\n",
    "    batch_size = config.batch_size\n",
    "    #　DataMakerを繰り返し呼び出しバッチごとにtensorを生成する\n",
    "    dataset = DatasetReader(num_data, batch_size)\n",
    "    print(\"Number of batches of size {}: {}\".format(batch_size, dataset.max_iter))\n",
    "\n",
    "    t = time.time()\n",
    "    batch = next(iter(dataset))  # Generate a batch of TSPs\n",
    "    print(\"Batch generation took: {:.3f} sec\".format(time.time() - t))\n",
    "    print(\"edges:\", batch.edges.shape)\n",
    "    print(\"edges_capacity:\", batch.edges_capacity.shape)\n",
    "    print(\"edges_targets:\", batch.edges_target.shape)\n",
    "    print(\"nodes:\", batch.nodes.shape)\n",
    "    print(\"nodes_target:\", batch.nodes_target.shape)\n",
    "    print(\"load_factor:\", batch.load_factor.shape)\n",
    "\n",
    "    idx = 0\n",
    "    f = plt.figure(figsize=(5, 5))\n",
    "    a = f.add_subplot(111)\n",
    "    plot_uelb(a, batch.edges[idx], batch.edges_target[idx])"
   ]
  }
 ],
 "metadata": {
  "kernelspec": {
   "display_name": "gcn-tsp-env",
   "language": "python",
   "name": "python3"
  },
  "language_info": {
   "codemirror_mode": {
    "name": "ipython",
    "version": 3
   },
   "file_extension": ".py",
   "mimetype": "text/x-python",
   "name": "python",
   "nbconvert_exporter": "python",
   "pygments_lexer": "ipython3",
   "version": "3.9.19"
  }
 },
 "nbformat": 4,
 "nbformat_minor": 2
}
